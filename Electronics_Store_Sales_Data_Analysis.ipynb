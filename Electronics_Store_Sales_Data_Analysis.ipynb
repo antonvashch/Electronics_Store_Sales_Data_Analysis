{
 "cells": [
  {
   "cell_type": "markdown",
   "id": "a73ca575-ac0d-4a0f-86d5-3ff41efa4dc7",
   "metadata": {},
   "source": [
    "# Sales Data Analysis Of Electronic Store"
   ]
  },
  {
   "cell_type": "markdown",
   "id": "81213181-371a-434e-a0c2-4bab99acf89c",
   "metadata": {},
   "source": [
    "- Data source from [keggle.com](https://www.kaggle.com/datasets/mkechinov/ecommerce-purchase-history-from-electronics-store)"
   ]
  },
  {
   "cell_type": "markdown",
   "id": "a994d5a6-43d9-4f6e-913d-ca66b1a426b3",
   "metadata": {},
   "source": [
    "### 1. Import Libraries"
   ]
  },
  {
   "cell_type": "code",
   "execution_count": 1,
   "id": "1fe8c48e-a6bc-4e11-acc4-dab90fea8cb9",
   "metadata": {},
   "outputs": [],
   "source": [
    "import pandas as pd\n",
    "import os\n",
    "from glob import glob\n",
    "import datetime\n",
    "import numpy as np\n",
    "from matplotlib import pyplot as plt"
   ]
  },
  {
   "cell_type": "markdown",
   "id": "4ace1e7a-3379-472f-91dc-e1e1a87d6bc7",
   "metadata": {},
   "source": [
    "### 2. Read and Merge all Data Files"
   ]
  },
  {
   "cell_type": "code",
   "execution_count": 2,
   "id": "ebbb9178-1ed8-44ec-8f2d-46a67ccf4673",
   "metadata": {},
   "outputs": [],
   "source": [
    "filenames = glob(\".\\Sales_Data\\Sales*.csv\")\n",
    "\n",
    "dfs = [pd.read_csv(f) for f in filenames]\n",
    "sales_2019 = pd.concat(dfs)"
   ]
  },
  {
   "cell_type": "markdown",
   "id": "5395f07d-a7b1-4631-ab8a-296be644d246",
   "metadata": {},
   "source": [
    "### 3. Exploration of Data"
   ]
  },
  {
   "cell_type": "code",
   "execution_count": 3,
   "id": "2b072176-f688-4de0-895b-1d1d526656dd",
   "metadata": {},
   "outputs": [
    {
     "name": "stdout",
     "output_type": "stream",
     "text": [
      "shape:  (186850, 6)\n",
      "NaNs: \n",
      "Order ID            545\n",
      "Product             545\n",
      "Quantity Ordered    545\n",
      "Price Each          545\n",
      "Order Date          545\n",
      "Purchase Address    545\n",
      "dtype: int64\n",
      "Dublicates:  1162\n"
     ]
    },
    {
     "data": {
      "text/html": [
       "<div>\n",
       "<style scoped>\n",
       "    .dataframe tbody tr th:only-of-type {\n",
       "        vertical-align: middle;\n",
       "    }\n",
       "\n",
       "    .dataframe tbody tr th {\n",
       "        vertical-align: top;\n",
       "    }\n",
       "\n",
       "    .dataframe thead th {\n",
       "        text-align: right;\n",
       "    }\n",
       "</style>\n",
       "<table border=\"1\" class=\"dataframe\">\n",
       "  <thead>\n",
       "    <tr style=\"text-align: right;\">\n",
       "      <th></th>\n",
       "      <th>Order ID</th>\n",
       "      <th>Product</th>\n",
       "      <th>Quantity Ordered</th>\n",
       "      <th>Price Each</th>\n",
       "      <th>Order Date</th>\n",
       "      <th>Purchase Address</th>\n",
       "    </tr>\n",
       "  </thead>\n",
       "  <tbody>\n",
       "    <tr>\n",
       "      <th>0</th>\n",
       "      <td>176558</td>\n",
       "      <td>USB-C Charging Cable</td>\n",
       "      <td>2</td>\n",
       "      <td>11.95</td>\n",
       "      <td>04/19/19 08:46</td>\n",
       "      <td>917 1st St, Dallas, TX 75001</td>\n",
       "    </tr>\n",
       "    <tr>\n",
       "      <th>1</th>\n",
       "      <td>NaN</td>\n",
       "      <td>NaN</td>\n",
       "      <td>NaN</td>\n",
       "      <td>NaN</td>\n",
       "      <td>NaN</td>\n",
       "      <td>NaN</td>\n",
       "    </tr>\n",
       "    <tr>\n",
       "      <th>2</th>\n",
       "      <td>176559</td>\n",
       "      <td>Bose SoundSport Headphones</td>\n",
       "      <td>1</td>\n",
       "      <td>99.99</td>\n",
       "      <td>04/07/19 22:30</td>\n",
       "      <td>682 Chestnut St, Boston, MA 02215</td>\n",
       "    </tr>\n",
       "    <tr>\n",
       "      <th>3</th>\n",
       "      <td>176560</td>\n",
       "      <td>Google Phone</td>\n",
       "      <td>1</td>\n",
       "      <td>600</td>\n",
       "      <td>04/12/19 14:38</td>\n",
       "      <td>669 Spruce St, Los Angeles, CA 90001</td>\n",
       "    </tr>\n",
       "    <tr>\n",
       "      <th>4</th>\n",
       "      <td>176560</td>\n",
       "      <td>Wired Headphones</td>\n",
       "      <td>1</td>\n",
       "      <td>11.99</td>\n",
       "      <td>04/12/19 14:38</td>\n",
       "      <td>669 Spruce St, Los Angeles, CA 90001</td>\n",
       "    </tr>\n",
       "  </tbody>\n",
       "</table>\n",
       "</div>"
      ],
      "text/plain": [
       "  Order ID                     Product Quantity Ordered Price Each  \\\n",
       "0   176558        USB-C Charging Cable                2      11.95   \n",
       "1      NaN                         NaN              NaN        NaN   \n",
       "2   176559  Bose SoundSport Headphones                1      99.99   \n",
       "3   176560                Google Phone                1        600   \n",
       "4   176560            Wired Headphones                1      11.99   \n",
       "\n",
       "       Order Date                      Purchase Address  \n",
       "0  04/19/19 08:46          917 1st St, Dallas, TX 75001  \n",
       "1             NaN                                   NaN  \n",
       "2  04/07/19 22:30     682 Chestnut St, Boston, MA 02215  \n",
       "3  04/12/19 14:38  669 Spruce St, Los Angeles, CA 90001  \n",
       "4  04/12/19 14:38  669 Spruce St, Los Angeles, CA 90001  "
      ]
     },
     "execution_count": 3,
     "metadata": {},
     "output_type": "execute_result"
    }
   ],
   "source": [
    "shape = sales_2019.shape\n",
    "nan = np.sum(sales_2019.isna())\n",
    "dublicates = np.sum(sales_2019.duplicated())\n",
    "\n",
    "print('shape: ',shape)\n",
    "print('NaNs: ', nan, sep=\"\\n\")\n",
    "print('Dublicates: ',dublicates)\n",
    "\n",
    "sales_2019.head()"
   ]
  },
  {
   "cell_type": "markdown",
   "id": "f6456eb4-9c32-4c7c-949a-2dd4df07efd4",
   "metadata": {},
   "source": [
    "### 4. Data Cleaning"
   ]
  },
  {
   "cell_type": "code",
   "execution_count": 4,
   "id": "5a9fc1cc-f651-46b4-8d1a-ee1b266f1d78",
   "metadata": {},
   "outputs": [
    {
     "name": "stdout",
     "output_type": "stream",
     "text": [
      "NaNs: \n",
      "Order ID            0\n",
      "Product             0\n",
      "Quantity Ordered    0\n",
      "Price Each          0\n",
      "Order Date          0\n",
      "Purchase Address    0\n",
      "dtype: int64\n",
      "Dublicates:  618\n"
     ]
    }
   ],
   "source": [
    "sales_2019 = sales_2019.dropna(how='all')\n",
    "\n",
    "print('NaNs: ',np.sum(sales_2019.isna()), sep='\\n')\n",
    "# rows with NaN's seem to contain only NaN's\n",
    "\n",
    "print('Dublicates: ',np.sum(sales_2019.duplicated()))\n",
    "# data set still contains duplicates\n",
    "\n",
    "sales_2019 = sales_2019.drop_duplicates(ignore_index=True)\n",
    "\n",
    "sales_2019 = sales_2019[sales_2019['Order Date'] != 'Order Date']\n",
    "# (values == column name) created error when trying converting to \n",
    "# needed dtype, so they are filtered out\n",
    "\n",
    "sales_2019['Order Date'] = pd.to_datetime(sales_2019['Order Date'])\n",
    "sales_2019 = sales_2019.sort_values('Order Date')"
   ]
  },
  {
   "cell_type": "markdown",
   "id": "127f8712-8fe1-4775-b197-67d253d4572a",
   "metadata": {},
   "source": [
    "#### 4.1 Duplicates: \n",
    "- If a customer buys the same item several times, the number in the \"Quantity ordered\" column should be increased, not the number of orders. \n",
    "- If an item was ordered several times in different orders, a new \"Order ID\" should be assigned to each time. \n",
    "    - Under these prerequisites, the duplicates were removed. In a real case, this issue should be clarified with the responsible person."
   ]
  },
  {
   "cell_type": "markdown",
   "id": "0b5b6484-0ad5-4488-abe8-83053381ab69",
   "metadata": {},
   "source": [
    "### 5. Which Months Had the Most Sales"
   ]
  },
  {
   "cell_type": "code",
   "execution_count": 5,
   "id": "4354199f-dafc-4d7e-a3c6-7bc64ae39e4d",
   "metadata": {},
   "outputs": [
    {
     "data": {
      "image/png": "[encoded data removed]",
      "text/plain": [
       "<Figure size 432x288 with 1 Axes>"
      ]
     },
     "metadata": {
      "needs_background": "light"
     },
     "output_type": "display_data"
    }
   ],
   "source": [
    "# extract the month from 'Order Date' column\n",
    "sales_2019['Month'] = sales_2019['Order Date'].dt.month\n",
    "\n",
    "sales_2019 = sales_2019.astype({'Month': 'int32', 'Price Each': 'float32', 'Quantity Ordered': 'float32'})\n",
    "\n",
    "# creating 'Sales' column\n",
    "sales_2019['Sales'] = sales_2019['Quantity Ordered']*sales_2019['Price Each']\n",
    "sales_best_month = sales_2019.groupby('Month').sum('Sales').sort_values('Month', ascending=True)\n",
    "\n",
    "# plot sales vs months\n",
    "plt.bar(sales_best_month.index, sales_best_month['Sales'])\n",
    "plt.xlabel('Month')\n",
    "plt.ylabel('Sales ($)')\n",
    "plt.xticks(ticks=sales_best_month.index)\n",
    "plt.title('Sales 2019')\n",
    "plt.show()"
   ]
  },
  {
   "cell_type": "markdown",
   "id": "e73bf792-7c88-4659-a694-e51d96555498",
   "metadata": {},
   "source": [
    "- The holidays seem to boost orders, especially before Christmas."
   ]
  },
  {
   "cell_type": "markdown",
   "id": "38879a21-c059-4c38-be17-e407bb3fb6f3",
   "metadata": {},
   "source": [
    "## 6. Which Cities Had the Most Sales?"
   ]
  },
  {
   "cell_type": "code",
   "execution_count": 6,
   "id": "5927b7a3-0e2e-4cb4-bebc-87384cd634d4",
   "metadata": {},
   "outputs": [
    {
     "data": {
      "text/plain": [
       "Text(0.5, 1.0, 'Sales 2019')"
      ]
     },
     "execution_count": 6,
     "metadata": {},
     "output_type": "execute_result"
    },
    {
     "data": {
      "image/png": "[encoded data removed]",
      "text/plain": [
       "<Figure size 432x288 with 1 Axes>"
      ]
     },
     "metadata": {
      "needs_background": "light"
     },
     "output_type": "display_data"
    }
   ],
   "source": [
    "# Extract city + state from 'purchase address', since different states might contain the same city name\n",
    "def get_city(address):\n",
    "    return address.split(',')[1]\n",
    "\n",
    "def get_state(address):\n",
    "    return address.split(',')[2].split(' ')[1]\n",
    "\n",
    "sales_2019['City_Zip'] = sales_2019['Purchase Address'].apply(lambda x: f\"{get_city(x)} ({get_state(x)})\")\n",
    "sales_best_city = sales_2019.groupby('City_Zip')['Sales'].sum()\n",
    "\n",
    "cities = sales_best_city.index\n",
    "\n",
    "# plot sales vs city\n",
    "plt.bar(cities, sales_best_city)\n",
    "plt.xlabel('City')\n",
    "plt.ylabel('Sales ($)')\n",
    "plt.xticks(ticks=cities, rotation=45, ha='right')\n",
    "plt.title('Sales 2019')"
   ]
  },
  {
   "cell_type": "markdown",
   "id": "f29a3957-429d-4a8b-93b8-540484694db3",
   "metadata": {},
   "source": [
    "### 7. Which Product Sold the Most?"
   ]
  },
  {
   "cell_type": "code",
   "execution_count": 7,
   "id": "6232434d-9883-493c-b5c2-b23ac9527696",
   "metadata": {},
   "outputs": [],
   "source": [
    "import warnings\n",
    "warnings.filterwarnings('ignore')"
   ]
  },
  {
   "cell_type": "code",
   "execution_count": 8,
   "id": "4e811f1a-8f47-476e-8973-68ab5ef4d2b2",
   "metadata": {},
   "outputs": [
    {
     "data": {
      "image/png": "[encoded data removed]",
      "text/plain": [
       "<Figure size 432x288 with 2 Axes>"
      ]
     },
     "metadata": {
      "needs_background": "light"
     },
     "output_type": "display_data"
    }
   ],
   "source": [
    "best_products = sales_2019.groupby('Product')['Quantity Ordered'].sum().sort_values(ascending=False)\n",
    "\n",
    "products_price = sales_2019.groupby('Product')['Price Each'].mean()\n",
    "\n",
    "best_products_price = pd.merge(best_products.reset_index(), products_price.reset_index(),\n",
    "                               how='left', on=['Product'])\n",
    "\n",
    "product = best_products_price['Product']\n",
    "price = best_products_price['Price Each']\n",
    "quantity = best_products_price['Quantity Ordered']\n",
    "\n",
    "fig, ax1 = plt.subplots()\n",
    "\n",
    "color = 'tab:blue'\n",
    "ax1.set_xlabel('Product')\n",
    "ax1.set_xticklabels(product, rotation=60, ha='right')\n",
    "ax1.set_ylabel('Quantity Ordered', color=color)\n",
    "ax1.bar(product, quantity, color=color, width=0.3)\n",
    "ax1.tick_params(axis='y', labelcolor=color)\n",
    "\n",
    "ax2 = ax1.twinx() \n",
    "\n",
    "color = 'tab:red'\n",
    "ax2.set_ylabel('Price Each', color=color)  \n",
    "ax2.plot(product, price, color=color)\n",
    "ax2.tick_params(axis='y', labelcolor=color)\n",
    "\n",
    "plt.show()"
   ]
  },
  {
   "cell_type": "markdown",
   "id": "693ca849-b9be-4de9-8208-1f8e6284e1b7",
   "metadata": {},
   "source": [
    "- There is a clear trend that cheaper products are bought more often. The popularity of macbook and thinkpad laptops is interesting, despite the highest prices by far."
   ]
  },
  {
   "cell_type": "markdown",
   "id": "7eab5a54-d342-451b-b421-1fb18189804b",
   "metadata": {},
   "source": [
    "### 8. Top Three Products over 100 USD in Every City?"
   ]
  },
  {
   "cell_type": "markdown",
   "id": "a13b880a-c502-48d3-9095-3cff3745128f",
   "metadata": {},
   "source": [
    "- The top three ranking for all products are more or less identical in each city, as presumably the demand for comparatively inexpensive and necessary commodities such as batteries and charging cables and the like might be stable across different population groups and income classes"
   ]
  },
  {
   "cell_type": "code",
   "execution_count": 9,
   "id": "c43422eb-f111-4483-a113-2c6849a2a0aa",
   "metadata": {},
   "outputs": [
    {
     "name": "stdout",
     "output_type": "stream",
     "text": [
      "City_Zip             Product                 \n",
      " Atlanta (GA)        Apple Airpods Headphones    1266.0\n",
      "                     27in FHD Monitor             587.0\n",
      "                     iPhone                       544.0\n",
      " Austin (TX)         Apple Airpods Headphones     884.0\n",
      "                     iPhone                       377.0\n",
      "                     27in FHD Monitor             358.0\n",
      " Boston (MA)         Apple Airpods Headphones    1651.0\n",
      "                     27in FHD Monitor             797.0\n",
      "                     iPhone                       752.0\n",
      " Dallas (TX)         Apple Airpods Headphones    1193.0\n",
      "                     27in FHD Monitor             587.0\n",
      "                     iPhone                       519.0\n",
      " Los Angeles (CA)    Apple Airpods Headphones    2468.0\n",
      "                     27in FHD Monitor            1222.0\n",
      "                     iPhone                      1118.0\n",
      " New York City (NY)  Apple Airpods Headphones    2094.0\n",
      "                     27in FHD Monitor            1072.0\n",
      "                     iPhone                       881.0\n",
      " Portland (ME)       Apple Airpods Headphones     233.0\n",
      "                     27in FHD Monitor             114.0\n",
      "                     27in 4K Gaming Monitor        85.0\n",
      " Portland (OR)       Apple Airpods Headphones     864.0\n",
      "                     27in FHD Monitor             415.0\n",
      "                     iPhone                       371.0\n",
      " San Francisco (CA)  Apple Airpods Headphones    3729.0\n",
      "                     27in FHD Monitor            1810.0\n",
      "                     iPhone                      1660.0\n",
      " Seattle (WA)        Apple Airpods Headphones    1255.0\n",
      "                     27in FHD Monitor             579.0\n",
      "                     iPhone                       546.0\n",
      "Name: Quantity Ordered, dtype: float32\n"
     ]
    }
   ],
   "source": [
    "sales_exp = sales_2019[sales_2019['Price Each'] >= 100]\n",
    "\n",
    "city_product_quantity = sales_exp.groupby('City_Zip').apply(lambda x: x.groupby('Product')['Quantity Ordered']\n",
    "                                         .sum().sort_values(ascending=False).head(3))\n",
    "\n",
    "print(city_product_quantity)"
   ]
  },
  {
   "cell_type": "markdown",
   "id": "984f5171-ab4b-4873-a4db-5164c9bfcd23",
   "metadata": {},
   "source": [
    "- Interestingly, Austin (TX) has the highest proportion of Iphones purchased and Portland (ME) has the lowest. This finding could be used for targeted marketing."
   ]
  },
  {
   "cell_type": "markdown",
   "id": "ebce0417-7d1f-4fb1-a2dc-258e8e9a4a88",
   "metadata": {},
   "source": [
    "### 9. Time of Most Orders / Best Time for Advertisement?"
   ]
  },
  {
   "cell_type": "code",
   "execution_count": 10,
   "id": "018d6eb0-9918-4a49-a716-fb7bd2bd9b88",
   "metadata": {},
   "outputs": [
    {
     "data": {
      "image/png": "[encoded data removed]",
      "text/plain": [
       "<Figure size 432x288 with 1 Axes>"
      ]
     },
     "metadata": {
      "needs_background": "light"
     },
     "output_type": "display_data"
    }
   ],
   "source": [
    "sales_2019['Order Date'] = pd.to_datetime(sales_2019['Order Date'])\n",
    "sales_2019['Hour'] = sales_2019['Order Date'].dt.hour\n",
    "\n",
    "hours = [hour for hour, df in sales_2019.groupby('Hour')]\n",
    "\n",
    "plt.plot(hours, sales_2019.groupby('Hour').count())\n",
    "plt.xlabel('Hour')\n",
    "plt.ylabel('Number of Orders')\n",
    "plt.xticks(ticks=hours)\n",
    "plt.title('Sales 2019')\n",
    "plt.grid()"
   ]
  },
  {
   "cell_type": "markdown",
   "id": "96ffe344-02cb-423e-aad3-bfebab5cc95d",
   "metadata": {},
   "source": [
    "- the number of orders peaks around 12 and 7 PM. The behavior could be related to the working hours. At 12 AM, many people have lunch break and at 7 AM, many are back home. \n",
    "- the most effective advertising would probably start 30 minutes before peaking above 12000 sales/hour"
   ]
  },
  {
   "cell_type": "markdown",
   "id": "8878493a-7eb9-4f96-88a2-97c52225ef15",
   "metadata": {},
   "source": [
    "### 10. Which Combination Were Sold Most Often?"
   ]
  },
  {
   "cell_type": "markdown",
   "id": "5d218cf0-a323-4411-9019-889cf7900e6e",
   "metadata": {},
   "source": [
    "#### 10.1 Which Combination of 2wo Products?"
   ]
  },
  {
   "cell_type": "code",
   "execution_count": 11,
   "id": "7baf6f6a-40aa-42d3-bf55-11d77b150e80",
   "metadata": {},
   "outputs": [
    {
     "name": "stdout",
     "output_type": "stream",
     "text": [
      "('iPhone', 'Lightning Charging Cable') :  1011\n",
      "('Google Phone', 'USB-C Charging Cable') :  997\n",
      "('iPhone', 'Wired Headphones') :  462\n",
      "('Google Phone', 'Wired Headphones') :  422\n",
      "('Apple Airpods Headphones', 'iPhone') :  373\n",
      "('USB-C Charging Cable', 'Vareebadd Phone') :  368\n",
      "('Bose SoundSport Headphones', 'Google Phone') :  228\n",
      "('USB-C Charging Cable', 'Wired Headphones') :  203\n",
      "('Vareebadd Phone', 'Wired Headphones') :  149\n",
      "('Lightning Charging Cable', 'Wired Headphones') :  129\n"
     ]
    }
   ],
   "source": [
    "# Products with the same order id are ordered together\n",
    "df = sales_2019[sales_2019['Order ID'].duplicated(keep=False)]\n",
    "\n",
    "# join different products into corresponding rows by 'Order ID' \n",
    "df['Grouped'] = df.groupby('Order ID')['Product'].transform(lambda x: ','.join(x))\n",
    "df = df[['Order ID', 'Grouped']].drop_duplicates()\n",
    "\n",
    "from itertools import combinations\n",
    "from collections import Counter\n",
    "\n",
    "count_2 = Counter()\n",
    "\n",
    "for row in df['Grouped']:\n",
    "    row_list = sorted(row.split(','), key=str.lower)\n",
    "    count_2.update(Counter(combinations(row_list, 2)))\n",
    "\n",
    "#https://stackoverflow.com/questions/67028695/how-to-count-specific-elements-inside-tuples-after-using-counter-python\n",
    "# for more readability:\n",
    "for key,value in count_2.most_common(10):\n",
    "    print(key,': ', value)"
   ]
  },
  {
   "cell_type": "markdown",
   "id": "e24d72a3-06ec-47f9-ba57-1e95de8bb7d3",
   "metadata": {},
   "source": [
    "#### 10.2 Which Combination of Three Products?"
   ]
  },
  {
   "cell_type": "code",
   "execution_count": 12,
   "id": "a8e044e0-ee77-492e-8478-1a6236cdfb59",
   "metadata": {},
   "outputs": [
    {
     "name": "stdout",
     "output_type": "stream",
     "text": [
      "('Google Phone', 'USB-C Charging Cable', 'Wired Headphones') :  87\n",
      "('iPhone', 'Lightning Charging Cable', 'Wired Headphones') :  63\n",
      "('Apple Airpods Headphones', 'iPhone', 'Lightning Charging Cable') :  47\n",
      "('Bose SoundSport Headphones', 'Google Phone', 'USB-C Charging Cable') :  35\n",
      "('USB-C Charging Cable', 'Vareebadd Phone', 'Wired Headphones') :  33\n",
      "('Apple Airpods Headphones', 'iPhone', 'Wired Headphones') :  27\n",
      "('Bose SoundSport Headphones', 'Google Phone', 'Wired Headphones') :  24\n",
      "('Bose SoundSport Headphones', 'USB-C Charging Cable', 'Vareebadd Phone') :  16\n",
      "('Bose SoundSport Headphones', 'Vareebadd Phone', 'Wired Headphones') :  5\n",
      "('Bose SoundSport Headphones', 'USB-C Charging Cable', 'Wired Headphones') :  5\n"
     ]
    }
   ],
   "source": [
    "count_3 = Counter()\n",
    "\n",
    "for row in df['Grouped']:\n",
    "    row_list = sorted(row.split(','), key=str.lower)\n",
    "    count_3.update(Counter(combinations(row_list, 3)))\n",
    "\n",
    "for key,value in count_3.most_common(10):\n",
    "    print(key,': ', value)"
   ]
  },
  {
   "cell_type": "markdown",
   "id": "8b6ab9b1-e717-451c-8b0b-95ec2efb6eaa",
   "metadata": {},
   "source": [
    "- people bought most often phone + accessories together"
   ]
  }
 ],
 "metadata": {
  "kernelspec": {
   "display_name": "Python 3 (ipykernel)",
   "language": "python",
   "name": "python3"
  },
  "language_info": {
   "codemirror_mode": {
    "name": "ipython",
    "version": 3
   },
   "file_extension": ".py",
   "mimetype": "text/x-python",
   "name": "python",
   "nbconvert_exporter": "python",
   "pygments_lexer": "ipython3",
   "version": "3.9.7"
  }
 },
 "nbformat": 4,
 "nbformat_minor": 5
}
